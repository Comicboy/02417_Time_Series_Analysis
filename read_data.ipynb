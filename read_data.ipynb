{
 "cells": [
  {
   "cell_type": "markdown",
   "metadata": {},
   "source": [
    "## Libraries"
   ]
  },
  {
   "cell_type": "code",
   "execution_count": 1,
   "metadata": {},
   "outputs": [
    {
     "name": "stderr",
     "output_type": "stream",
     "text": [
      "c:\\ProgramData\\anaconda3\\envs\\course02450\\lib\\site-packages\\pandas\\core\\computation\\expressions.py:21: UserWarning: Pandas requires version '2.8.4' or newer of 'numexpr' (version '2.7.3' currently installed).\n",
      "  from pandas.core.computation.check import NUMEXPR_INSTALLED\n"
     ]
    }
   ],
   "source": [
    "# Libraries\n",
    "\n",
    "import numpy as np\n",
    "import pandas as pd\n",
    "import datetime\n",
    "import matplotlib.pyplot as plt"
   ]
  },
  {
   "cell_type": "markdown",
   "metadata": {},
   "source": [
    "## Read Data"
   ]
  },
  {
   "cell_type": "code",
   "execution_count": 2,
   "metadata": {},
   "outputs": [
    {
     "name": "stdout",
     "output_type": "stream",
     "text": [
      "<class 'pandas.core.frame.DataFrame'>\n",
      "RangeIndex: 84 entries, 0 to 83\n",
      "Data columns (total 14 columns):\n",
      " #   Column        Non-Null Count  Dtype              \n",
      "---  ------        --------------  -----              \n",
      " 0   time          84 non-null     datetime64[ns, UTC]\n",
      " 1   total         84 non-null     float64            \n",
      " 2   gasoline      84 non-null     int64              \n",
      " 3   diesel        84 non-null     int64              \n",
      " 4   fgas          84 non-null     int64              \n",
      " 5   ngas          84 non-null     int64              \n",
      " 6   electricity   84 non-null     int64              \n",
      " 7   petroleum     84 non-null     int64              \n",
      " 8   hydrogen      84 non-null     int64              \n",
      " 9   methanol      84 non-null     int64              \n",
      " 10  ethanol       84 non-null     int64              \n",
      " 11  pluginhybrid  84 non-null     int64              \n",
      " 12  otherfuels    84 non-null     int64              \n",
      " 13  year          84 non-null     float64            \n",
      "dtypes: datetime64[ns, UTC](1), float64(2), int64(11)\n",
      "memory usage: 9.3 KB\n",
      "None\n"
     ]
    }
   ],
   "source": [
    "# Read training data\n",
    "df = pd.read_csv('DST_BIL54.csv')\n",
    "#print(df.info())\n",
    "\n",
    "# Convert 'time' column to datetime\n",
    "df['time'] = pd.to_datetime(df['time'] + '-01', format='%Y-%m-%d', utc=True)\n",
    "#print(df['time'])\n",
    "#print(df['time'].dtype)\n",
    "\n",
    "# Year to month for each of them\n",
    "#df['year'] = df['time'].dt.year + df['time'].dt.month / 12\n",
    "df['year'] = df['time'].dt.year + ((df['time'].dt.month-1) / 12)",
    "\n",
    "# Make the output variable a floating point (i.e., decimal number)\n",
    "df['total'] = df['total'].astype(float) / 1E6\n",
    "\n",
    "# Round the 'total' column to 3 decimal points\n",
    "df['total'] = df['total'].round(3)\n",
    "df['year'] = df['year'].round(3)\n",
    "\n",
    "# Divide into train and test set\n",
    "test_start = pd.Timestamp('2024-01-01', tz='UTC')\n",
    "df_train = df[df['time'] < test_start]\n",
    "df_test = df[df['time'] >= test_start]\n",
    "\n",
    "print(df.info())\n"
   ]
  },
  {
   "cell_type": "code",
   "execution_count": 3,
   "metadata": {},
   "outputs": [
    {
     "name": "stdout",
     "output_type": "stream",
     "text": [
      "Dimensions check\n",
      "(84, 14)\n",
      "(72, 14)\n",
      "(12, 14)\n"
     ]
    },
    {
     "data": {
      "text/html": [
       "<div>\n",
       "<style scoped>\n",
       "    .dataframe tbody tr th:only-of-type {\n",
       "        vertical-align: middle;\n",
       "    }\n",
       "\n",
       "    .dataframe tbody tr th {\n",
       "        vertical-align: top;\n",
       "    }\n",
       "\n",
       "    .dataframe thead th {\n",
       "        text-align: right;\n",
       "    }\n",
       "</style>\n",
       "<table border=\"1\" class=\"dataframe\">\n",
       "  <thead>\n",
       "    <tr style=\"text-align: right;\">\n",
       "      <th></th>\n",
       "      <th>time</th>\n",
       "      <th>total</th>\n",
       "      <th>gasoline</th>\n",
       "      <th>diesel</th>\n",
       "      <th>fgas</th>\n",
       "      <th>ngas</th>\n",
       "      <th>electricity</th>\n",
       "      <th>petroleum</th>\n",
       "      <th>hydrogen</th>\n",
       "      <th>methanol</th>\n",
       "      <th>ethanol</th>\n",
       "      <th>pluginhybrid</th>\n",
       "      <th>otherfuels</th>\n",
       "      <th>year</th>\n",
       "    </tr>\n",
       "  </thead>\n",
       "  <tbody>\n",
       "    <tr>\n",
       "      <th>0</th>\n",
       "      <td>2018-01-01 00:00:00+00:00</td>\n",
       "      <td>2.930</td>\n",
       "      <td>1781826</td>\n",
       "      <td>1136656</td>\n",
       "      <td>12</td>\n",
       "      <td>256</td>\n",
       "      <td>9304</td>\n",
       "      <td>0</td>\n",
       "      <td>81</td>\n",
       "      <td>0</td>\n",
       "      <td>0</td>\n",
       "      <td>2340</td>\n",
       "      <td>8</td>\n",
       "      <td>2018.083</td>\n",
       "    </tr>\n",
       "    <tr>\n",
       "      <th>1</th>\n",
       "      <td>2018-02-01 00:00:00+00:00</td>\n",
       "      <td>2.934</td>\n",
       "      <td>1783338</td>\n",
       "      <td>1138414</td>\n",
       "      <td>12</td>\n",
       "      <td>255</td>\n",
       "      <td>9343</td>\n",
       "      <td>0</td>\n",
       "      <td>80</td>\n",
       "      <td>0</td>\n",
       "      <td>0</td>\n",
       "      <td>2593</td>\n",
       "      <td>9</td>\n",
       "      <td>2018.167</td>\n",
       "    </tr>\n",
       "    <tr>\n",
       "      <th>2</th>\n",
       "      <td>2018-03-01 00:00:00+00:00</td>\n",
       "      <td>2.941</td>\n",
       "      <td>1787219</td>\n",
       "      <td>1141576</td>\n",
       "      <td>12</td>\n",
       "      <td>257</td>\n",
       "      <td>9399</td>\n",
       "      <td>0</td>\n",
       "      <td>77</td>\n",
       "      <td>0</td>\n",
       "      <td>0</td>\n",
       "      <td>2873</td>\n",
       "      <td>9</td>\n",
       "      <td>2018.250</td>\n",
       "    </tr>\n",
       "    <tr>\n",
       "      <th>3</th>\n",
       "      <td>2018-04-01 00:00:00+00:00</td>\n",
       "      <td>2.951</td>\n",
       "      <td>1793554</td>\n",
       "      <td>1144846</td>\n",
       "      <td>12</td>\n",
       "      <td>257</td>\n",
       "      <td>9548</td>\n",
       "      <td>0</td>\n",
       "      <td>77</td>\n",
       "      <td>0</td>\n",
       "      <td>0</td>\n",
       "      <td>3195</td>\n",
       "      <td>9</td>\n",
       "      <td>2018.333</td>\n",
       "    </tr>\n",
       "    <tr>\n",
       "      <th>4</th>\n",
       "      <td>2018-05-01 00:00:00+00:00</td>\n",
       "      <td>2.963</td>\n",
       "      <td>1799795</td>\n",
       "      <td>1149840</td>\n",
       "      <td>12</td>\n",
       "      <td>256</td>\n",
       "      <td>9665</td>\n",
       "      <td>0</td>\n",
       "      <td>77</td>\n",
       "      <td>0</td>\n",
       "      <td>0</td>\n",
       "      <td>3439</td>\n",
       "      <td>9</td>\n",
       "      <td>2018.417</td>\n",
       "    </tr>\n",
       "  </tbody>\n",
       "</table>\n",
       "</div>"
      ],
      "text/plain": [
       "                       time  total  gasoline   diesel  fgas  ngas  \\\n",
       "0 2018-01-01 00:00:00+00:00  2.930   1781826  1136656    12   256   \n",
       "1 2018-02-01 00:00:00+00:00  2.934   1783338  1138414    12   255   \n",
       "2 2018-03-01 00:00:00+00:00  2.941   1787219  1141576    12   257   \n",
       "3 2018-04-01 00:00:00+00:00  2.951   1793554  1144846    12   257   \n",
       "4 2018-05-01 00:00:00+00:00  2.963   1799795  1149840    12   256   \n",
       "\n",
       "   electricity  petroleum  hydrogen  methanol  ethanol  pluginhybrid  \\\n",
       "0         9304          0        81         0        0          2340   \n",
       "1         9343          0        80         0        0          2593   \n",
       "2         9399          0        77         0        0          2873   \n",
       "3         9548          0        77         0        0          3195   \n",
       "4         9665          0        77         0        0          3439   \n",
       "\n",
       "   otherfuels      year  \n",
       "0           8  2018.083  \n",
       "1           9  2018.167  \n",
       "2           9  2018.250  \n",
       "3           9  2018.333  \n",
       "4           9  2018.417  "
      ]
     },
     "execution_count": 3,
     "metadata": {},
     "output_type": "execute_result"
    }
   ],
   "source": [
    "# Dimensions check and head\n",
    "print('Dimensions check')\n",
    "print(np.shape(df))\n",
    "print(np.shape(df_train))\n",
    "print(np.shape(df_test))\n",
    "\n",
    "df.head()"
   ]
  },
  {
   "cell_type": "code",
   "execution_count": 4,
   "metadata": {},
   "outputs": [
    {
     "name": "stdout",
     "output_type": "stream",
     "text": [
      "0    2018.083\n",
      "1    2018.167\n",
      "2    2018.250\n",
      "3    2018.333\n",
      "4    2018.417\n",
      "Name: year, dtype: float64\n",
      "0    2.930\n",
      "1    2.934\n",
      "2    2.941\n",
      "3    2.951\n",
      "4    2.963\n",
      "Name: total, dtype: float64\n"
     ]
    }
   ],
   "source": [
    "# Keep data of interest\n",
    "\n",
    "X=df_train['year']\n",
    "y=df_train['total']\n",
    "\n",
    "print(X.head())\n",
    "print(y.head())"
   ]
  },
  {
   "cell_type": "code",
   "execution_count": 5,
   "metadata": {},
   "outputs": [
    {
     "data": {
      "image/png": "[encoded data removed]",
      "text/plain": [
       "<Figure size 1000x600 with 1 Axes>"
      ]
     },
     "metadata": {},
     "output_type": "display_data"
    }
   ],
   "source": [
    "# plot data \n",
    "\n",
    "plt.figure(figsize=(10, 6))\n",
    "plt.plot(X, y, label='Total')\n",
    "plt.xlabel('Time')\n",
    "plt.ylabel('Total')\n",
    "plt.title('Total over Time')\n",
    "plt.legend()\n",
    "plt.grid(True)\n",
    "plt.show()"
   ]
  }
 ],
 "metadata": {
  "kernelspec": {
   "display_name": "course02450",
   "language": "python",
   "name": "python3"
  },
  "language_info": {
   "codemirror_mode": {
    "name": "ipython",
    "version": 3
   },
   "file_extension": ".py",
   "mimetype": "text/x-python",
   "name": "python",
   "nbconvert_exporter": "python",
   "pygments_lexer": "ipython3",
   "version": "3.9.19"
  }
 },
 "nbformat": 4,
 "nbformat_minor": 2
}
