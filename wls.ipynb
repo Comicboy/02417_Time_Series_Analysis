{
 "cells": [
  {
   "cell_type": "markdown",
   "metadata": {},
   "source": [
    "# 3. WLS - local linear trend model"
   ]
  },
  {
   "cell_type": "markdown",
   "metadata": {},
   "source": [
    "## Libraries"
   ]
  },
  {
   "cell_type": "code",
   "execution_count": null,
   "metadata": {},
   "outputs": [],
   "source": [
    "# Libraries\n",
    "\n",
    "import numpy as np\n",
    "import pandas as pd\n",
    "import datetime\n",
    "import matplotlib.pyplot as plt"
   ]
  },
  {
   "cell_type": "markdown",
   "metadata": {},
   "source": [
    "## Read data"
   ]
  },
  {
   "cell_type": "code",
   "execution_count": null,
   "metadata": {},
   "outputs": [],
   "source": [
    "# Read training data\n",
    "df = pd.read_csv('DST_BIL54.csv')\n",
    "#print(df.info())\n",
    "\n",
    "# Convert 'time' column to datetime\n",
    "df['time'] = pd.to_datetime(df['time'] + '-01', format='%Y-%m-%d', utc=True)\n",
    "#print(df['time'])\n",
    "#print(df['time'].dtype)\n",
    "\n",
    "# Year to month for each of them\n",
    "df['year'] = df['time'].dt.year + df['time'].dt.month / 12\n",
    "\n",
    "# Make the output variable a floating point (i.e., decimal number)\n",
    "df['total'] = df['total'].astype(float) / 1E6\n",
    "\n",
    "# Round the 'total' column to 3 decimal points\n",
    "df['total'] = df['total'].round(3)\n",
    "df['year'] = df['year'].round(3)\n",
    "\n",
    "# Divide into train and test set\n",
    "test_start = pd.Timestamp('2024-01-01', tz='UTC')\n",
    "df_train = df[df['time'] < test_start]\n",
    "df_test = df[df['time'] >= test_start]\n",
    "\n",
    "print(df.info())\n"
   ]
  },
  {
   "cell_type": "code",
   "execution_count": null,
   "metadata": {},
   "outputs": [],
   "source": [
    "# Dimensions check and head\n",
    "print('Dimensions check')\n",
    "print(np.shape(df))\n",
    "print(np.shape(df_train))\n",
    "print(np.shape(df_test))\n",
    "\n",
    "df.head()"
   ]
  },
  {
   "cell_type": "code",
   "execution_count": null,
   "metadata": {},
   "outputs": [],
   "source": [
    "# Keep data of interest\n",
    "\n",
    "X=df_train['year']\n",
    "y=df_train['total']\n",
    "\n",
    "print(X.head())\n",
    "print(y.head())"
   ]
  },
  {
   "cell_type": "code",
   "execution_count": null,
   "metadata": {},
   "outputs": [],
   "source": [
    "# plot data \n",
    "\n",
    "plt.figure(figsize=(10, 6))\n",
    "plt.plot(X, y, label='Total')\n",
    "plt.xlabel('Time')\n",
    "plt.ylabel('Total')\n",
    "plt.title('Total over Time')\n",
    "plt.legend()\n",
    "plt.grid(True)\n",
    "plt.show()"
   ]
  },
  {
   "cell_type": "markdown",
   "metadata": {},
   "source": [
    "## Solve sub questions"
   ]
  },
  {
   "cell_type": "code",
   "execution_count": null,
   "metadata": {},
   "outputs": [],
   "source": [
    "# 3.1 Describe the variance-covariance matrix\n",
    "\n",
    "lambda_ = 0.9\n",
    "\n",
    "# Create the diagonal matrix\n",
    "powers = np.arange(len(X)-1, -1, -1)\n",
    "diagonal_values = lambda_ ** powers\n",
    "Sigma = np.diag(diagonal_values)\n",
    "\n",
    "# Display the lower right part of the matrix\n",
    "lower_right_part = Sigma[-4:, -4:]  # Adjust the slice as needed\n",
    "print(\"Lower right part of the matrix:\")\n",
    "print(lower_right_part)\n",
    "\n",
    "print(' ')\n",
    "\n",
    "# OLS SIgma \n",
    "Sigma_ols = np.diag(np.var(y)*np.ones(len(y)))\n",
    "lower_right_part = Sigma_ols[-4:, -4:]  # Adjust the slice as needed\n",
    "print(\"Lower right part of the OLS matrix:\")\n",
    "print(lower_right_part)"
   ]
  },
  {
   "cell_type": "code",
   "execution_count": null,
   "metadata": {},
   "outputs": [],
   "source": [
    "# 3.2 plot lambdas vs time\n",
    "\n",
    "plt.figure(figsize=(10, 6))\n",
    "plt.scatter(X, diagonal_values, label='lambdas')\n",
    "plt.xlabel('Time')\n",
    "plt.ylabel('Lambdas')\n",
    "plt.title('Lambdas over Time')\n",
    "plt.legend()\n",
    "plt.grid(True)\n",
    "plt.show()"
   ]
  },
  {
   "cell_type": "code",
   "execution_count": null,
   "metadata": {},
   "outputs": [],
   "source": [
    "# 3.3 sum of all the λ-weights\n",
    "\n",
    "# WLS\n",
    "lw=np.sum(diagonal_values)\n",
    "print(lw)\n",
    "\n",
    "# OLS\n",
    "lo=len(X)\n",
    "print(lo)"
   ]
  },
  {
   "cell_type": "code",
   "execution_count": null,
   "metadata": {},
   "outputs": [],
   "source": [
    "# 3.4 Estimate and present ˆθ1 and ˆθ2 corresponding to the WLS model with λ = 0.9.\n",
    "\n",
    "def f(j):\n",
    "    return np.array([[1], [j]])\n",
    "\n",
    "# current F\n",
    "F=np.zeros((2,2))\n",
    "for i in range(len(X)): \n",
    "    F+=diagonal_values[i]*((f(X[i]) @ f(X[i]).T))\n",
    "#print(F)\n",
    "\n",
    "# current h\n",
    "h=np.zeros((2,1))\n",
    "for i in range(len(X)): \n",
    "    h+=(diagonal_values[i]*f(X[i]))*y[i]\n",
    "#print(h)\n",
    "\n",
    "# current thetas\n",
    "\n",
    "thetas=np.linalg.inv(F) @ h\n",
    "print(thetas)\n",
    "\n",
    "# linear predictor for thetas:\n",
    "thet_pred=list([f(i).T@thetas for i in X])\n",
    "thet_pred=[float(thet_pred[i][0]) for i in range(len(thet_pred))]\n",
    "#print(thet_pred)\n",
    "\n",
    "# plot\n",
    "\n",
    "plt.figure(figsize=(10, 6))\n",
    "plt.plot(X, y, label='Total')\n",
    "plt.plot(X,thet_pred, color='red')\n",
    "plt.xlabel('Time')\n",
    "plt.ylabel('Total')\n",
    "plt.title('Total over Time')\n",
    "plt.legend()\n",
    "plt.grid(True)\n",
    "plt.show()\n"
   ]
  },
  {
   "cell_type": "code",
   "execution_count": null,
   "metadata": {},
   "outputs": [],
   "source": [
    "# 3.5 Make a forecast for the next 12 months \n",
    "\n",
    "X_test=df_test['year']\n",
    "y_test=df_test['total']\n",
    "\n",
    "# linear predictor for thetas:\n",
    "test_pred=list([f(i).T@thetas for i in X_test])\n",
    "test_pred=[float(test_pred[i][0]) for i in range(len(test_pred))]\n",
    "\n",
    "# plot\n",
    "\n",
    "plt.figure(figsize=(10, 6))\n",
    "plt.plot(X, y, label='Train Total')\n",
    "plt.plot(X,thet_pred, color='red',label='linear predictor')\n",
    "plt.plot(X_test, y_test, color='grey',label='Test Total')\n",
    "plt.plot(X_test,test_pred, color='red')\n",
    "plt.xlabel('Time')\n",
    "plt.ylabel('Total')\n",
    "plt.title('Total over Time')\n",
    "plt.legend()\n",
    "plt.grid(True)\n",
    "plt.show()\n"
   ]
  },
  {
   "cell_type": "code",
   "execution_count": null,
   "metadata": {},
   "outputs": [],
   "source": [
    "# 3.6 multiple lambdas\n",
    "\n",
    "def predgen(l):\n",
    "    powers = np.arange(len(X)-1, -1, -1)\n",
    "    diagonal_values = l ** powers\n",
    "    # current F\n",
    "    F=np.zeros((2,2))\n",
    "    for i in range(len(X)): \n",
    "        F+=diagonal_values[i]*((f(X[i]) @ f(X[i]).T))\n",
    "    #print(F)\n",
    "\n",
    "    # current h\n",
    "    h=np.zeros((2,1))\n",
    "    for i in range(len(X)): \n",
    "        h+=(diagonal_values[i]*f(X[i]))*y[i]\n",
    "    #print(h)\n",
    "\n",
    "    # current thetas\n",
    "\n",
    "    thetas=np.linalg.inv(F) @ h\n",
    "    print(thetas)\n",
    "\n",
    "    # linear predictor for thetas:\n",
    "    thet_pred=list([f(i).T@thetas for i in X])\n",
    "    thet_pred=[float(thet_pred[i][0]) for i in range(len(thet_pred))]\n",
    "\n",
    "    test_pred=list([f(i).T@thetas for i in X_test])\n",
    "    test_pred=[float(test_pred[i][0]) for i in range(len(test_pred))]\n",
    "\n",
    "    return thet_pred,test_pred\n",
    "\n",
    "#ols\n",
    "thet_pred1,test_pred1=predgen(1)\n",
    "#0.9\n",
    "thet_pred09,test_pred09=predgen(0.9)\n",
    "#0.90\n",
    "thet_pred099,test_pred099=predgen(0.99)\n",
    "#0.8\n",
    "thet_pred08,test_pred08=predgen(0.8)\n",
    "#0.7\n",
    "thet_pred07,test_pred07=predgen(0.7)\n",
    "\n",
    "\n",
    "\n",
    "plt.figure(figsize=(10, 6))\n",
    "plt.plot(X, y, label='Train Total')\n",
    "plt.plot(X,thet_pred09, color='red',label='WLS predictor')\n",
    "plt.plot(X,thet_pred1, color='black',label='OLS')\n",
    "plt.plot(X_test, y_test, color='grey',label='Test Total')\n",
    "plt.plot(X_test,test_pred09, color='red')\n",
    "plt.plot(X_test,test_pred1, color='black')\n",
    "#MULTIL\n",
    "plt.plot(X_test,test_pred099, color='green',label=\"different lambdas\")\n",
    "plt.plot(X_test,test_pred08, color='green')\n",
    "plt.plot(X_test,test_pred07, color='green')\n",
    "\n",
    "\n",
    "plt.xlabel('Time')\n",
    "plt.ylabel('Total')\n",
    "plt.title('Total over Time')\n",
    "plt.legend()\n",
    "plt.grid(True)\n",
    "plt.show()\n",
    "    "
   ]
  }
 ],
 "metadata": {
  "kernelspec": {
   "display_name": "course02450",
   "language": "python",
   "name": "python3"
  },
  "language_info": {
   "codemirror_mode": {
    "name": "ipython",
    "version": 3
   },
   "file_extension": ".py",
   "mimetype": "text/x-python",
   "name": "python",
   "nbconvert_exporter": "python",
   "pygments_lexer": "ipython3",
   "version": "3.9.19"
  }
 },
 "nbformat": 4,
 "nbformat_minor": 2
}
